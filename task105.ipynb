{
 "cells": [
  {
   "cell_type": "markdown",
   "metadata": {},
   "source": [
    "Using DASK for centralized power method"
   ]
  },
  {
   "cell_type": "code",
   "execution_count": 1,
   "metadata": {
    "collapsed": true
   },
   "outputs": [],
   "source": [
    "import numpy as np\n",
    "from numpy import linalg as LA\n",
    "from numpy.linalg import inv\n",
    "import matplotlib.pyplot as plt\n",
    "import time\n",
    "import dask\n",
    "import dask.array as da"
   ]
  },
  {
   "cell_type": "code",
   "execution_count": 2,
   "metadata": {
    "collapsed": true
   },
   "outputs": [],
   "source": [
    "def power(A,x_init,Eigvec):\n",
    "    T=150\n",
    "    error=np.zeros(T)\n",
    "    y = x_init\n",
    "    for t in range (T):\n",
    "        y= np.matmul(A,y)\n",
    "        y=y/LA.norm(y)\n",
    "        error[t]=1-np.square(np.dot(Eigvec.transpose(),y)/LA.norm(y))# 1-cos^2\n",
    "    return error"
   ]
  },
  {
   "cell_type": "code",
   "execution_count": 3,
   "metadata": {
    "collapsed": true
   },
   "outputs": [],
   "source": [
    "def power_parallel(s,dim,VarianceConditioning,n,chunk_size,x_init,Eigvec):\n",
    "    A= np.zeros((n,), dtype=np.object)\n",
    "    for i in range(n):\n",
    "        Y=s[:,i*chunk_size:(i+1)*chunk_size]\n",
    "        Y = np.matmul(VarianceConditioning, Y)\n",
    "        A[i]=np.matmul(Y,Y.transpose())\n",
    "        \n",
    "    T=150\n",
    "    error=np.zeros(T)\n",
    "    v=np.zeros((n,dim,1))\n",
    "    y = x_init\n",
    "    for t in range (T):\n",
    "        for i in range(n):\n",
    "            v[i,:,:]= np.matmul(A[i],y)\n",
    "            v[i,:,:]=v[i,:,:]/LA.norm(v[i,:,:])\n",
    "                        \n",
    "        y=np.sum(v,axis=0)\n",
    "        y=y/LA.norm(y)\n",
    "        error[t]=1-np.square(np.dot(Eigvec.transpose(),y)/LA.norm(y))# 1-cos^2\n",
    "    return error"
   ]
  },
  {
   "cell_type": "code",
   "execution_count": 4,
   "metadata": {
    "collapsed": true
   },
   "outputs": [],
   "source": [
    "def power_dask(Ai,x_init,Eigvec):\n",
    "    A=da.matmul(Ai,da.transpose(Ai))\n",
    "    #print(A)\n",
    "    T=150\n",
    "    error=np.zeros(T)\n",
    "    y=x_init\n",
    "    for t in range(T):\n",
    "        v=da.matmul(A,y)\n",
    "        y=v/da.linalg.norm(v)\n",
    "        y.compute()\n",
    "        error[t]=1-da.square(da.dot(Eigvec.transpose(),y)/da.linalg.norm(y))\n",
    "    #y.visualize()\n",
    "    return error"
   ]
  },
  {
   "cell_type": "code",
   "execution_count": 5,
   "metadata": {},
   "outputs": [
    {
     "name": "stdout",
     "output_type": "stream",
     "text": [
      "Wall time: 49.5 ms\n"
     ]
    }
   ],
   "source": [
    "%%time\n",
    "#Data generation\n",
    "DataDimension=5\n",
    "TotalSamples=1e5\n",
    "NumberOfNodes=10\n",
    "mu, sigma = 0, 1 # mean and standard deviation\n",
    "VarianceConditioning = np.diag(np.array([1, 0.9, 0.8, 0.7, 0.6]))\n",
    "s = np.random.normal(mu, sigma, (int(DataDimension), int(TotalSamples)))\n",
    "DataSamples = np.matmul(VarianceConditioning, s)\n",
    "\n",
    "#TotalSamples1 = TotalSamples/NumberOfNodes\n",
    "#DataSamples_1 = DataSamples[:, 0:999]\n",
    "#DataSamples_2 = DataSamples[:, 1000:1999]\n",
    "CovarianceMatrix = np.matmul(DataSamples, DataSamples.transpose())/TotalSamples\n"
   ]
  },
  {
   "cell_type": "code",
   "execution_count": 6,
   "metadata": {},
   "outputs": [
    {
     "name": "stdout",
     "output_type": "stream",
     "text": [
      "Wall time: 0 ns\n"
     ]
    }
   ],
   "source": [
    "%%time\n",
    "N=TotalSamples\n",
    "dim=DataDimension\n",
    "k=1\n",
    "data = DataSamples\n",
    "A = CovarianceMatrix\n",
    "\n",
    "eigval_y, evd_y = np.linalg.eig(A)\n",
    "Eigvec = np.zeros((dim,k))\n",
    "Eigvec[:,0:k] = evd_y[:,0:k]\n",
    "\n",
    "x_init = np.random.randn(dim,k)"
   ]
  },
  {
   "cell_type": "code",
   "execution_count": 7,
   "metadata": {},
   "outputs": [
    {
     "data": {
      "image/png": "[encoded data removed]",
      "text/plain": [
       "<matplotlib.figure.Figure at 0x264d0ccb588>"
      ]
     },
     "metadata": {},
     "output_type": "display_data"
    },
    {
     "name": "stdout",
     "output_type": "stream",
     "text": [
      "Wall time: 634 ms\n"
     ]
    }
   ],
   "source": [
    "%%time\n",
    "#Implement centro PCA without dask\n",
    "power=power(A,x_init,Eigvec)\n",
    "plt.plot(power)\n",
    "plt.yscale('log')\n",
    "plt.xlabel('No. of iterations')\n",
    "plt.ylabel('Average error')\n",
    "plt.show()"
   ]
  },
  {
   "cell_type": "code",
   "execution_count": 8,
   "metadata": {},
   "outputs": [
    {
     "data": {
      "image/png": "[encoded data removed]",
      "text/plain": [
       "<matplotlib.figure.Figure at 0x264d181a978>"
      ]
     },
     "metadata": {},
     "output_type": "display_data"
    },
    {
     "name": "stdout",
     "output_type": "stream",
     "text": [
      "Wall time: 731 ms\n"
     ]
    }
   ],
   "source": [
    "%%time\n",
    "n=NumberOfNodes # number of chunks\n",
    "chunk_size=int(N/n)\n",
    "# power method parallel without dask\n",
    "power_wo=power_parallel(s,dim,VarianceConditioning,n,chunk_size,x_init,Eigvec)\n",
    "plt.plot(power_wo)\n",
    "plt.yscale('log')\n",
    "plt.xlabel('No. of iterations')\n",
    "plt.ylabel('Average error')\n",
    "plt.show()"
   ]
  },
  {
   "cell_type": "code",
   "execution_count": 9,
   "metadata": {},
   "outputs": [
    {
     "data": {
      "image/png": "[encoded data removed]",
      "text/plain": [
       "<matplotlib.figure.Figure at 0x264d3f3d898>"
      ]
     },
     "metadata": {},
     "output_type": "display_data"
    },
    {
     "name": "stdout",
     "output_type": "stream",
     "text": [
      "Wall time: 29.1 s\n"
     ]
    }
   ],
   "source": [
    "%%time\n",
    "# power method using dask\n",
    "Ai = da.from_array(data, chunks=(dim,chunk_size,))\n",
    "power_dask=power_dask(Ai,x_init,Eigvec)\n",
    "plt.plot(power_dask)\n",
    "plt.yscale('log')\n",
    "plt.xlabel('No. of iterations')\n",
    "plt.ylabel('Average error')\n",
    "plt.show()"
   ]
  },
  {
   "cell_type": "code",
   "execution_count": null,
   "metadata": {
    "collapsed": true
   },
   "outputs": [],
   "source": []
  },
  {
   "cell_type": "code",
   "execution_count": null,
   "metadata": {
    "collapsed": true
   },
   "outputs": [],
   "source": []
  }
 ],
 "metadata": {
  "kernelspec": {
   "display_name": "Python 3",
   "language": "python",
   "name": "python3"
  },
  "language_info": {
   "codemirror_mode": {
    "name": "ipython",
    "version": 3
   },
   "file_extension": ".py",
   "mimetype": "text/x-python",
   "name": "python",
   "nbconvert_exporter": "python",
   "pygments_lexer": "ipython3",
   "version": "3.6.3"
  }
 },
 "nbformat": 4,
 "nbformat_minor": 2
}
